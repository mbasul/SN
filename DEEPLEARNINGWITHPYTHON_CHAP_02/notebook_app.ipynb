{
 "metadata": {
  "kernelspec": {
   "display_name": "Streamlit Notebook",
   "name": "streamlit"
  },
  "lastEditStatus": {
   "notebookId": "bhlweny42jh4pxevaabc",
   "authorId": "3676151304500",
   "authorName": "MBASUL250113",
   "authorEmail": "matthias.balzer@sulzer.de",
   "sessionId": "865af392-b584-4c4f-b2f7-9f782f65515f",
   "lastEditTime": 1736868286354
  }
 },
 "nbformat_minor": 5,
 "nbformat": 4,
 "cells": [
  {
   "cell_type": "code",
   "id": "3775908f-ca36-4846-8f38-5adca39217f2",
   "metadata": {
    "language": "python",
    "name": "cell1"
   },
   "source": "# Import python packages\nimport streamlit as st\nimport pandas as pd\n\n# We can also use Snowpark for our analyses!\nfrom snowflake.snowpark.context import get_active_session\nsession = get_active_session()\n",
   "execution_count": null,
   "outputs": []
  }
 ]
}